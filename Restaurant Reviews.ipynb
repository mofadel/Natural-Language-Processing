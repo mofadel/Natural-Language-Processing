{
 "cells": [
  {
   "cell_type": "markdown",
   "metadata": {},
   "source": [
    "# Sentiment Analysis for Restaurant Reviews"
   ]
  },
  {
   "cell_type": "markdown",
   "metadata": {},
   "source": [
    "In this work, we are going to do analysis of Restaurant reviews: positive or negative reviews, using NLP techniques.\n",
    "The dataset we are using contains 1000 samples with their corresponding labels: 0 for negative review and 1 for positive review.\n",
    "These are the different steps in our work:\n",
    "\n",
    "\n",
    "        1- Data Preprocessing\n",
    "        2- Split the dataset into train and test\n",
    "        3- Fit a linear model"
   ]
  },
  {
   "cell_type": "code",
   "execution_count": 1,
   "metadata": {
    "collapsed": false
   },
   "outputs": [],
   "source": [
    "# import some libraries\n",
    "import numpy as np\n",
    "import pandas as pd\n",
    "import sklearn\n",
    "import matplotlib.pyplot as plt"
   ]
  },
  {
   "cell_type": "code",
   "execution_count": 2,
   "metadata": {
    "collapsed": false
   },
   "outputs": [
    {
     "data": {
      "text/html": [
       "<div>\n",
       "<style scoped>\n",
       "    .dataframe tbody tr th:only-of-type {\n",
       "        vertical-align: middle;\n",
       "    }\n",
       "\n",
       "    .dataframe tbody tr th {\n",
       "        vertical-align: top;\n",
       "    }\n",
       "\n",
       "    .dataframe thead th {\n",
       "        text-align: right;\n",
       "    }\n",
       "</style>\n",
       "<table border=\"1\" class=\"dataframe\">\n",
       "  <thead>\n",
       "    <tr style=\"text-align: right;\">\n",
       "      <th></th>\n",
       "      <th>Review</th>\n",
       "      <th>Liked</th>\n",
       "    </tr>\n",
       "  </thead>\n",
       "  <tbody>\n",
       "    <tr>\n",
       "      <th>0</th>\n",
       "      <td>Wow... Loved this place.</td>\n",
       "      <td>1</td>\n",
       "    </tr>\n",
       "    <tr>\n",
       "      <th>1</th>\n",
       "      <td>Crust is not good.</td>\n",
       "      <td>0</td>\n",
       "    </tr>\n",
       "    <tr>\n",
       "      <th>2</th>\n",
       "      <td>Not tasty and the texture was just nasty.</td>\n",
       "      <td>0</td>\n",
       "    </tr>\n",
       "    <tr>\n",
       "      <th>3</th>\n",
       "      <td>Stopped by during the late May bank holiday of...</td>\n",
       "      <td>1</td>\n",
       "    </tr>\n",
       "    <tr>\n",
       "      <th>4</th>\n",
       "      <td>The selection on the menu was great and so wer...</td>\n",
       "      <td>1</td>\n",
       "    </tr>\n",
       "  </tbody>\n",
       "</table>\n",
       "</div>"
      ],
      "text/plain": [
       "                                              Review  Liked\n",
       "0                           Wow... Loved this place.      1\n",
       "1                                 Crust is not good.      0\n",
       "2          Not tasty and the texture was just nasty.      0\n",
       "3  Stopped by during the late May bank holiday of...      1\n",
       "4  The selection on the menu was great and so wer...      1"
      ]
     },
     "execution_count": 2,
     "metadata": {},
     "output_type": "execute_result"
    }
   ],
   "source": [
    "#get the dataset\n",
    "dataset = pd.read_csv(\"Restaurant_Reviews.tsv\", delimiter=\"\\t\")\n",
    "dataset.head()"
   ]
  },
  {
   "cell_type": "markdown",
   "metadata": {},
   "source": [
    "Look at the repartition of the dataset, how many 1 and 0? missing data?\n",
    "This might be very useful so that we can know which kind one preprocessing we need to do"
   ]
  },
  {
   "cell_type": "code",
   "execution_count": 3,
   "metadata": {
    "collapsed": false
   },
   "outputs": [
    {
     "name": "stdout",
     "output_type": "stream",
     "text": [
      "Number of positive reviews:  500\n",
      "Number of the negative reviews:  500\n",
      "Missing data:  0\n"
     ]
    },
    {
     "data": {
      "image/png": "[encoded data removed]",
      "text/plain": [
       "<Figure size 432x288 with 1 Axes>"
      ]
     },
     "metadata": {},
     "output_type": "display_data"
    }
   ],
   "source": [
    "print(\"Number of positive reviews: \",sum(dataset[\"Liked\"]==1))\n",
    "print(\"Number of the negative reviews: \", sum(dataset[\"Liked\"]==0))\n",
    "print(\"Missing data: \", dataset.isnull().sum().sum())\n",
    "\n",
    "#plt.figure(figsize=[10,7])\n",
    "#plt.subplot(1,3,1)\n",
    "#dataset[\"Liked\"].value_counts().plot.pie()\n",
    "dataset.hist()\n",
    "#plt.subplot(1,4,1)\n",
    "#dataset[\"Review\"].value_counts().plot.pie()\n",
    "plt.show()"
   ]
  },
  {
   "cell_type": "markdown",
   "metadata": {},
   "source": [
    "# 1- Data Preprocessing"
   ]
  },
  {
   "cell_type": "markdown",
   "metadata": {},
   "source": [
    "First, we will set all the words into lower case, clean the data by removing the punctuations and the numbers and transform all reviews words by lemmatization technique.\n",
    "Why is this preprocessing important?\n",
    "\n",
    "    a- We set all the words to lower case so that we will not have a distinction between, \"NICE\" and \"nice\" for instance\n",
    "    \n",
    "    b- Punctuations and numbers are not needed here because they don't discriminate the data\n",
    "    \n",
    "    c- Lemmatization is a technique called \"Word Normalization\": it is a way to truncate words to keep the canonical form or the dictionary form. Then all the words in the dataset having the same normalization will share the same feature. This technique is similar to Stemming but the difference is Stemming keep only the root of the word. For instance, if we have the sentence \"We use scientific methods in data science\", the output after stemming would be \" we use scientif method in data scienc\", and the output after lemmatization will be \"we use scientifique method in data science.\""
   ]
  },
  {
   "cell_type": "code",
   "execution_count": 4,
   "metadata": {
    "collapsed": false
   },
   "outputs": [],
   "source": [
    "import nltk\n",
    "import re\n",
    "#nltk.download() #decomment it if you have not installed yet this corpus\n",
    "from nltk.corpus import stopwords \n",
    "from nltk.stem import WordNetLemmatizer,PorterStemmer"
   ]
  },
  {
   "cell_type": "code",
   "execution_count": 5,
   "metadata": {
    "collapsed": false
   },
   "outputs": [
    {
     "name": "stdout",
     "output_type": "stream",
     "text": [
      "\t Lemmatization\n",
      "We\n",
      "use\n",
      "scientific\n",
      "method\n",
      "data\n",
      "science\n",
      "\t Stemming\n",
      "We\n",
      "use\n",
      "scientif\n",
      "method\n",
      "data\n",
      "scienc\n"
     ]
    }
   ],
   "source": [
    "print(\"\\t Lemmatization\")\n",
    "l = WordNetLemmatizer()\n",
    "s = \"We use scientific methods in data science \"\n",
    "for word in s.split():\n",
    "    if not word in set(stopwords.words('english')):\n",
    "        print(l.lemmatize(word))\n",
    "print(\"\\t Stemming\")\n",
    "ps = PorterStemmer()\n",
    "for word in s.split():\n",
    "    if not word in set(stopwords.words('english')):\n",
    "        print(ps.stem(word))"
   ]
  },
  {
   "cell_type": "code",
   "execution_count": 6,
   "metadata": {
    "collapsed": false
   },
   "outputs": [],
   "source": [
    "# Initialize empty array \n",
    "# to append clean text  \n",
    "corpus = []  \n",
    "# 1000 (reviews) rows to clean \n",
    "for i in range(0, 1000):      \n",
    "    # column : \"Review\", row ith \n",
    "    review = re.sub('[^a-zA-Z]', ' ', dataset['Review'][i])  # it replaces everything that it not alphabetic character by a space\n",
    "    review = review.lower()  # convert all cases to lower cases    \n",
    "    review = review.split()  # split to array(default delimiter is \" \")     \n",
    "    # creating Lemmatizer object to \n",
    "    # take main stem of each word \n",
    "    lemmatizer = WordNetLemmatizer()     \n",
    "    # loop for lemmatization each word \n",
    "    # in string array at ith row     \n",
    "    review = [lemmatizer.lemmatize(word) for word in review \n",
    "                if not word in set(stopwords.words('english'))]                  \n",
    "    # rejoin all string array elements \n",
    "    # to create back into a string \n",
    "    rev = ' '.join(review)       \n",
    "    # append each string to create \n",
    "    # array of clean text  \n",
    "    corpus.append(rev)  "
   ]
  },
  {
   "cell_type": "code",
   "execution_count": 7,
   "metadata": {
    "collapsed": false
   },
   "outputs": [
    {
     "data": {
      "text/plain": [
       "'wow loved place'"
      ]
     },
     "execution_count": 7,
     "metadata": {},
     "output_type": "execute_result"
    }
   ],
   "source": [
    "corpus[0]"
   ]
  },
  {
   "cell_type": "markdown",
   "metadata": {},
   "source": [
    "Here we can visualize some of the transformation done on the dataset by the preprocessing."
   ]
  },
  {
   "cell_type": "code",
   "execution_count": 8,
   "metadata": {
    "collapsed": false,
    "scrolled": true
   },
   "outputs": [
    {
     "name": "stdout",
     "output_type": "stream",
     "text": [
      "\t\t Initial Dataset\n",
      "0                             Wow... Loved this place.\n",
      "1                                   Crust is not good.\n",
      "2            Not tasty and the texture was just nasty.\n",
      "3    Stopped by during the late May bank holiday of...\n",
      "4    The selection on the menu was great and so wer...\n",
      "Name: Review, dtype: object \n",
      "\n",
      "\t\t After preprocessing\n",
      "['wow loved place', 'crust good', 'tasty texture nasty', 'stopped late may bank holiday rick steve recommendation loved', 'selection menu great price']\n"
     ]
    }
   ],
   "source": [
    "print(\"\\t\\t Initial Dataset\")\n",
    "print(dataset['Review'][:5],\"\\n\")\n",
    "print(\"\\t\\t After preprocessing\")\n",
    "print(corpus[:5])"
   ]
  },
  {
   "cell_type": "markdown",
   "metadata": {},
   "source": [
    "The next step will be to create our feature matrix where every review will be represented as a sparse vector: this is a Bag Of Words (BOW) representations. For that task, we need CountVectorizer from sklearn.feature_extraction.text.\n",
    "In this CountVectorizer class we can set the maximum number of features (max no. features which help the most via attribute “max_features”). Do the training on corpus and then apply the same transformation to the corpus “.fit_transform(corpus)” and then convert it into array. If review is positive or negative that answer is in second column of : dataset[:, 1] : all rows ans 1st column (indexing from zero).\n",
    "\n"
   ]
  },
  {
   "cell_type": "code",
   "execution_count": 9,
   "metadata": {
    "collapsed": true
   },
   "outputs": [],
   "source": [
    "from sklearn.feature_extraction.text import CountVectorizer\n",
    "\n",
    "count_vect = CountVectorizer(max_features = 1500)\n",
    "word2vec = count_vect.fit_transform(corpus).toarray() #create a matrix where all the reviews(after transformation) are stored with their vector representation\n",
    "true_labels = dataset.iloc[:,1] # get all the labels from our dataset"
   ]
  },
  {
   "cell_type": "code",
   "execution_count": 10,
   "metadata": {
    "collapsed": false
   },
   "outputs": [
    {
     "data": {
      "text/plain": [
       "array([0, 0, 0, ..., 0, 0, 0], dtype=int64)"
      ]
     },
     "execution_count": 10,
     "metadata": {},
     "output_type": "execute_result"
    }
   ],
   "source": [
    "word2vec.shape\n",
    "word2vec[0]\n",
    "#print(sum(word2vec[0]==1))"
   ]
  },
  {
   "cell_type": "markdown",
   "metadata": {},
   "source": [
    "# 2- Training and test"
   ]
  },
  {
   "cell_type": "markdown",
   "metadata": {},
   "source": [
    "Since this is the only dataset available, we will split it into two parts: a training part and a testing part using train_test_split from sklearn.cross_validation"
   ]
  },
  {
   "cell_type": "code",
   "execution_count": 11,
   "metadata": {
    "collapsed": false
   },
   "outputs": [],
   "source": [
    "from sklearn.model_selection import train_test_split\n",
    "X_train, x_test, Y_train, y_test = train_test_split(word2vec, true_labels, test_size = .3, random_state = 42)"
   ]
  },
  {
   "cell_type": "markdown",
   "metadata": {},
   "source": [
    "# 3- Fitting a model"
   ]
  },
  {
   "cell_type": "markdown",
   "metadata": {},
   "source": [
    "Since we are doing binary classification, we can fit a Logistic Regression model."
   ]
  },
  {
   "cell_type": "code",
   "execution_count": 22,
   "metadata": {
    "collapsed": false
   },
   "outputs": [
    {
     "name": "stdout",
     "output_type": "stream",
     "text": [
      "Accuracy:  0.793333333333\n",
      "Confusion Matrix:  [[126  26]\n",
      " [ 36 112]]\n"
     ]
    }
   ],
   "source": [
    "from sklearn.linear_model import LogisticRegression \n",
    "from sklearn.metrics import accuracy_score, confusion_matrix\n",
    "\n",
    "clf = LogisticRegression(solver = 'lbfgs')\n",
    "clf.fit(X_train, Y_train)\n",
    "pred_labels = clf.predict(x_test)\n",
    "print(\"Accuracy: \", accuracy_score(y_test, pred_labels))\n",
    "print(\"Confusion Matrix: \", confusion_matrix(y_test, pred_labels))"
   ]
  },
  {
   "cell_type": "code",
   "execution_count": null,
   "metadata": {},
   "outputs": [],
   "source": []
  }
 ],
 "metadata": {
  "kernelspec": {
   "display_name": "Python 3",
   "language": "python",
   "name": "python3"
  },
  "language_info": {
   "codemirror_mode": {
    "name": "ipython",
    "version": 3
   },
   "file_extension": ".py",
   "mimetype": "text/x-python",
   "name": "python",
   "nbconvert_exporter": "python",
   "pygments_lexer": "ipython3",
   "version": "3.5.3"
  }
 },
 "nbformat": 4,
 "nbformat_minor": 2
}
